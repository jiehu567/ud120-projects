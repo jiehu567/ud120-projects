{
 "cells": [
  {
   "cell_type": "code",
   "execution_count": 1,
   "metadata": {
    "collapsed": true
   },
   "outputs": [],
   "source": [
    "#!/usr/bin/python\n",
    "\n",
    "\"\"\" \n",
    "    Starter code for exploring the Enron dataset (emails + finances);\n",
    "    loads up the dataset (pickled dict of dicts).\n",
    "\n",
    "    The dataset has the form:\n",
    "    enron_data[\"LASTNAME FIRSTNAME MIDDLEINITIAL\"] = { features_dict }\n",
    "\n",
    "    {features_dict} is a dictionary of features associated with that person.\n",
    "    You should explore features_dict as part of the mini-project,\n",
    "    but here's an example to get you started:\n",
    "\n",
    "    enron_data[\"SKILLING JEFFREY K\"][\"bonus\"] = 5600000\n",
    "    \n",
    "\"\"\"\n",
    "\n",
    "import pickle\n",
    "\n",
    "enron_data = pickle.load(open(\"../final_project/final_project_dataset.pkl\", \"r\"))\n",
    "\n",
    "\n"
   ]
  },
  {
   "cell_type": "code",
   "execution_count": 2,
   "metadata": {
    "collapsed": false
   },
   "outputs": [
    {
     "data": {
      "text/plain": [
       "146"
      ]
     },
     "execution_count": 2,
     "metadata": {},
     "output_type": "execute_result"
    }
   ],
   "source": [
    "len(enron_data)"
   ]
  },
  {
   "cell_type": "code",
   "execution_count": 3,
   "metadata": {
    "collapsed": false
   },
   "outputs": [],
   "source": [
    "# Person of interests\n",
    "count = 0\n",
    "for person in enron_data.items():\n",
    "    if person[1][\"poi\"]:\n",
    "        count +=1"
   ]
  },
  {
   "cell_type": "code",
   "execution_count": 4,
   "metadata": {
    "collapsed": false
   },
   "outputs": [
    {
     "data": {
      "text/plain": [
       "18"
      ]
     },
     "execution_count": 4,
     "metadata": {},
     "output_type": "execute_result"
    }
   ],
   "source": [
    "count"
   ]
  },
  {
   "cell_type": "code",
   "execution_count": 5,
   "metadata": {
    "collapsed": false
   },
   "outputs": [
    {
     "ename": "KeyError",
     "evalue": "'JAMES PRENTICE'",
     "output_type": "error",
     "traceback": [
      "\u001b[0;31m---------------------------------------------------------------------------\u001b[0m",
      "\u001b[0;31mKeyError\u001b[0m                                  Traceback (most recent call last)",
      "\u001b[0;32m<ipython-input-5-13d2eebe0fe5>\u001b[0m in \u001b[0;36m<module>\u001b[0;34m()\u001b[0m\n\u001b[1;32m      1\u001b[0m \u001b[0;31m# total value of the stock belonging to James Prentice\u001b[0m\u001b[0;34m\u001b[0m\u001b[0;34m\u001b[0m\u001b[0m\n\u001b[0;32m----> 2\u001b[0;31m \u001b[0menron_data\u001b[0m\u001b[0;34m[\u001b[0m\u001b[0;34m\"JAMES PRENTICE\"\u001b[0m\u001b[0;34m]\u001b[0m\u001b[0;34m\u001b[0m\u001b[0m\n\u001b[0m",
      "\u001b[0;31mKeyError\u001b[0m: 'JAMES PRENTICE'"
     ]
    }
   ],
   "source": [
    "# total value of the stock belonging to James Prentice\n",
    "enron_data[\"JAMES PRENTICE\"]"
   ]
  },
  {
   "cell_type": "code",
   "execution_count": 30,
   "metadata": {
    "collapsed": true
   },
   "outputs": [],
   "source": [
    "import re"
   ]
  },
  {
   "cell_type": "code",
   "execution_count": 39,
   "metadata": {
    "collapsed": false
   },
   "outputs": [
    {
     "name": "stdout",
     "output_type": "stream",
     "text": [
      "('BANNANTINE JAMES M', {'salary': 477, 'to_messages': 566, 'deferral_payments': 'NaN', 'total_payments': 916197, 'exercised_stock_options': 4046157, 'bonus': 'NaN', 'restricted_stock': 1757552, 'shared_receipt_with_poi': 465, 'restricted_stock_deferred': -560222, 'total_stock_value': 5243487, 'expenses': 56301, 'loan_advances': 'NaN', 'from_messages': 29, 'other': 864523, 'from_this_person_to_poi': 0, 'poi': False, 'director_fees': 'NaN', 'deferred_income': -5104, 'long_term_incentive': 'NaN', 'email_address': 'james.bannantine@enron.com', 'from_poi_to_this_person': 39})\n",
      "('PRENTICE JAMES', {'salary': 'NaN', 'to_messages': 'NaN', 'deferral_payments': 564348, 'total_payments': 564348, 'exercised_stock_options': 886231, 'bonus': 'NaN', 'restricted_stock': 208809, 'shared_receipt_with_poi': 'NaN', 'restricted_stock_deferred': 'NaN', 'total_stock_value': 1095040, 'expenses': 'NaN', 'loan_advances': 'NaN', 'from_messages': 'NaN', 'other': 'NaN', 'from_this_person_to_poi': 'NaN', 'poi': False, 'director_fees': 'NaN', 'deferred_income': 'NaN', 'long_term_incentive': 'NaN', 'email_address': 'james.prentice@enron.com', 'from_poi_to_this_person': 'NaN'})\n",
      "('NOLES JAMES L', {'salary': 'NaN', 'to_messages': 'NaN', 'deferral_payments': 774401, 'total_payments': 774401, 'exercised_stock_options': 'NaN', 'bonus': 'NaN', 'restricted_stock': 463261, 'shared_receipt_with_poi': 'NaN', 'restricted_stock_deferred': -94556, 'total_stock_value': 368705, 'expenses': 'NaN', 'loan_advances': 'NaN', 'from_messages': 'NaN', 'other': 'NaN', 'from_this_person_to_poi': 'NaN', 'poi': False, 'director_fees': 'NaN', 'deferred_income': 'NaN', 'long_term_incentive': 'NaN', 'email_address': 'NaN', 'from_poi_to_this_person': 'NaN'})\n",
      "('BADUM JAMES P', {'salary': 'NaN', 'to_messages': 'NaN', 'deferral_payments': 178980, 'total_payments': 182466, 'exercised_stock_options': 257817, 'bonus': 'NaN', 'restricted_stock': 'NaN', 'shared_receipt_with_poi': 'NaN', 'restricted_stock_deferred': 'NaN', 'total_stock_value': 257817, 'expenses': 3486, 'loan_advances': 'NaN', 'from_messages': 'NaN', 'other': 'NaN', 'from_this_person_to_poi': 'NaN', 'poi': False, 'director_fees': 'NaN', 'deferred_income': 'NaN', 'long_term_incentive': 'NaN', 'email_address': 'NaN', 'from_poi_to_this_person': 'NaN'})\n",
      "('HUGHES JAMES A', {'salary': 'NaN', 'to_messages': 719, 'deferral_payments': 'NaN', 'total_payments': 'NaN', 'exercised_stock_options': 754966, 'bonus': 'NaN', 'restricted_stock': 363428, 'shared_receipt_with_poi': 589, 'restricted_stock_deferred': 'NaN', 'total_stock_value': 1118394, 'expenses': 'NaN', 'loan_advances': 'NaN', 'from_messages': 34, 'other': 'NaN', 'from_this_person_to_poi': 5, 'poi': False, 'director_fees': 'NaN', 'deferred_income': 'NaN', 'long_term_incentive': 'NaN', 'email_address': 'james.hughes@enron.com', 'from_poi_to_this_person': 35})\n",
      "('DERRICK JR. JAMES V', {'salary': 492375, 'to_messages': 2181, 'deferral_payments': 'NaN', 'total_payments': 550981, 'exercised_stock_options': 8831913, 'bonus': 800000, 'restricted_stock': 1787380, 'shared_receipt_with_poi': 1401, 'restricted_stock_deferred': -1787380, 'total_stock_value': 8831913, 'expenses': 51124, 'loan_advances': 'NaN', 'from_messages': 909, 'other': 7482, 'from_this_person_to_poi': 20, 'poi': False, 'director_fees': 'NaN', 'deferred_income': -1284000, 'long_term_incentive': 484000, 'email_address': 'james.derrick@enron.com', 'from_poi_to_this_person': 64})\n",
      "('FALLON JAMES B', {'salary': 304588, 'to_messages': 1755, 'deferral_payments': 'NaN', 'total_payments': 3676340, 'exercised_stock_options': 940257, 'bonus': 2500000, 'restricted_stock': 1392142, 'shared_receipt_with_poi': 1604, 'restricted_stock_deferred': 'NaN', 'total_stock_value': 2332399, 'expenses': 95924, 'loan_advances': 'NaN', 'from_messages': 75, 'other': 401481, 'from_this_person_to_poi': 37, 'poi': False, 'director_fees': 'NaN', 'deferred_income': 'NaN', 'long_term_incentive': 374347, 'email_address': 'jim.fallon@enron.com', 'from_poi_to_this_person': 42})\n"
     ]
    }
   ],
   "source": [
    "pt = re.compile(r'.*JAMES.*')\n",
    "for item in enron_data.items():\n",
    "    if re.match(string = item[0], pattern=pt) :\n",
    "        print item"
   ]
  },
  {
   "cell_type": "code",
   "execution_count": 41,
   "metadata": {
    "collapsed": false
   },
   "outputs": [
    {
     "data": {
      "text/plain": [
       "1095040"
      ]
     },
     "execution_count": 41,
     "metadata": {},
     "output_type": "execute_result"
    }
   ],
   "source": [
    "# PRENTICE JAMES\n",
    "enron_data[\"PRENTICE JAMES\"][\"total_stock_value\"]"
   ]
  },
  {
   "cell_type": "code",
   "execution_count": 12,
   "metadata": {
    "collapsed": false
   },
   "outputs": [
    {
     "name": "stdout",
     "output_type": "stream",
     "text": [
      "103559793\n"
     ]
    }
   ],
   "source": [
    "for item in enron_data.items():\n",
    "    if item[0] == \"LAY KENNETH L\": # 103559793\n",
    "        print item[1][\"total_payments\"]"
   ]
  },
  {
   "cell_type": "code",
   "execution_count": 13,
   "metadata": {
    "collapsed": true
   },
   "outputs": [],
   "source": [
    "import re"
   ]
  },
  {
   "cell_type": "code",
   "execution_count": 21,
   "metadata": {
    "collapsed": true
   },
   "outputs": [],
   "source": [
    "key_people_style = re.compile(r'.*SKILL.*')"
   ]
  },
  {
   "cell_type": "code",
   "execution_count": 22,
   "metadata": {
    "collapsed": false
   },
   "outputs": [
    {
     "name": "stdout",
     "output_type": "stream",
     "text": [
      "8682716\n"
     ]
    }
   ],
   "source": [
    "for item in enron_data.items():\n",
    "    if re.match(string=item[0], pattern=key_people_style):   \n",
    "        print item[1][\"total_payments\"]  # 8682716"
   ]
  },
  {
   "cell_type": "code",
   "execution_count": 23,
   "metadata": {
    "collapsed": false
   },
   "outputs": [
    {
     "name": "stdout",
     "output_type": "stream",
     "text": [
      "2424083\n"
     ]
    }
   ],
   "source": [
    "key_people_style = re.compile(r'.*FASTOW.*')\n",
    "for item in enron_data.items():\n",
    "    if re.match(string=item[0], pattern=key_people_style):   \n",
    "        print item[1][\"total_payments\"]  # 2424083"
   ]
  },
  {
   "cell_type": "code",
   "execution_count": 42,
   "metadata": {
    "collapsed": false
   },
   "outputs": [
    {
     "data": {
      "text/plain": [
       "{'bonus': 1200000,\n",
       " 'deferral_payments': 27610,\n",
       " 'deferred_income': -144062,\n",
       " 'director_fees': 'NaN',\n",
       " 'email_address': 'wes.colwell@enron.com',\n",
       " 'exercised_stock_options': 'NaN',\n",
       " 'expenses': 16514,\n",
       " 'from_messages': 40,\n",
       " 'from_poi_to_this_person': 240,\n",
       " 'from_this_person_to_poi': 11,\n",
       " 'loan_advances': 'NaN',\n",
       " 'long_term_incentive': 'NaN',\n",
       " 'other': 101740,\n",
       " 'poi': True,\n",
       " 'restricted_stock': 698242,\n",
       " 'restricted_stock_deferred': 'NaN',\n",
       " 'salary': 288542,\n",
       " 'shared_receipt_with_poi': 1132,\n",
       " 'to_messages': 1758,\n",
       " 'total_payments': 1490344,\n",
       " 'total_stock_value': 698242}"
      ]
     },
     "execution_count": 42,
     "metadata": {},
     "output_type": "execute_result"
    }
   ],
   "source": [
    "# Wesley Colwell\n",
    "enron_data[\"COLWELL WESLEY\"]"
   ]
  },
  {
   "cell_type": "code",
   "execution_count": 43,
   "metadata": {
    "collapsed": false
   },
   "outputs": [
    {
     "data": {
      "text/plain": [
       "{'bonus': 5600000,\n",
       " 'deferral_payments': 'NaN',\n",
       " 'deferred_income': 'NaN',\n",
       " 'director_fees': 'NaN',\n",
       " 'email_address': 'jeff.skilling@enron.com',\n",
       " 'exercised_stock_options': 19250000,\n",
       " 'expenses': 29336,\n",
       " 'from_messages': 108,\n",
       " 'from_poi_to_this_person': 88,\n",
       " 'from_this_person_to_poi': 30,\n",
       " 'loan_advances': 'NaN',\n",
       " 'long_term_incentive': 1920000,\n",
       " 'other': 22122,\n",
       " 'poi': True,\n",
       " 'restricted_stock': 6843672,\n",
       " 'restricted_stock_deferred': 'NaN',\n",
       " 'salary': 1111258,\n",
       " 'shared_receipt_with_poi': 2042,\n",
       " 'to_messages': 3627,\n",
       " 'total_payments': 8682716,\n",
       " 'total_stock_value': 26093672}"
      ]
     },
     "execution_count": 43,
     "metadata": {},
     "output_type": "execute_result"
    }
   ],
   "source": [
    "# Jeffrey K Skilling\n",
    "enron_data[\"SKILLING JEFFREY K\"]"
   ]
  },
  {
   "cell_type": "code",
   "execution_count": 24,
   "metadata": {
    "collapsed": true
   },
   "outputs": [],
   "source": [
    "import numbers"
   ]
  },
  {
   "cell_type": "code",
   "execution_count": 25,
   "metadata": {
    "collapsed": false
   },
   "outputs": [
    {
     "data": {
      "text/plain": [
       "(95, 111)"
      ]
     },
     "execution_count": 25,
     "metadata": {},
     "output_type": "execute_result"
    }
   ],
   "source": [
    "\n",
    "count_qualified_salary = 0\n",
    "count_has_email = 0\n",
    "for item in enron_data.items():\n",
    "    if item[1]['salary'] != 'NaN' or isinstance(item[1]['salary'], numbers.Number):\n",
    "        count_qualified_salary +=1\n",
    "    if item[1]['email_address'] != 'NaN':\n",
    "        count_has_email +=1\n",
    "\n",
    "count_qualified_salary,count_has_email"
   ]
  },
  {
   "cell_type": "code",
   "execution_count": 35,
   "metadata": {
    "collapsed": false
   },
   "outputs": [
    {
     "data": {
      "text/plain": [
       "18"
      ]
     },
     "execution_count": 35,
     "metadata": {},
     "output_type": "execute_result"
    }
   ],
   "source": [
    "# NaN in total_payments\n",
    "count_NaN = 0\n",
    "for item in enron_data.items():\n",
    "    if item[1]['poi']:\n",
    "        count_NaN +=1\n",
    "count_NaN"
   ]
  },
  {
   "cell_type": "code",
   "execution_count": 28,
   "metadata": {
    "collapsed": false
   },
   "outputs": [
    {
     "data": {
      "text/plain": [
       "0.14383561643835616"
      ]
     },
     "execution_count": 28,
     "metadata": {},
     "output_type": "execute_result"
    }
   ],
   "source": [
    "21.0/146.0"
   ]
  },
  {
   "cell_type": "code",
   "execution_count": 32,
   "metadata": {
    "collapsed": false
   },
   "outputs": [
    {
     "data": {
      "text/plain": [
       "0.18181818181818182"
      ]
     },
     "execution_count": 32,
     "metadata": {},
     "output_type": "execute_result"
    }
   ],
   "source": [
    "4.0/22.0"
   ]
  },
  {
   "cell_type": "code",
   "execution_count": null,
   "metadata": {
    "collapsed": true
   },
   "outputs": [],
   "source": []
  }
 ],
 "metadata": {
  "anaconda-cloud": {},
  "kernelspec": {
   "display_name": "Python [conda env:ipykernel_py2]",
   "language": "python",
   "name": "conda-env-ipykernel_py2-py"
  },
  "language_info": {
   "codemirror_mode": {
    "name": "ipython",
    "version": 2
   },
   "file_extension": ".py",
   "mimetype": "text/x-python",
   "name": "python",
   "nbconvert_exporter": "python",
   "pygments_lexer": "ipython2",
   "version": "2.7.12"
  }
 },
 "nbformat": 4,
 "nbformat_minor": 2
}
